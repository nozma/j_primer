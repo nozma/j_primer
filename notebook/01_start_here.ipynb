{
 "cells": [
  {
   "cell_type": "markdown",
   "metadata": {},
   "source": [
    "## ここから始めよう\n",
    "\n",
    "Jは汎用の高水準プログラミング言語だ。もしあなたがJに触れるのが初めてで、Jのプログラマになりたいと考えているのであれば、まずはこの本を読んで見るのが良いだろう。既にあなたがプログラミング経験豊富であったとしても、Jには変わったものがたくさんある。だから、Jの深いところに飛び込む前に、この本を流し読みしてみる価値はあるはずだ。"
   ]
  },
  {
   "cell_type": "markdown",
   "metadata": {},
   "source": [
    "## なぜJか？\n",
    "\n",
    "Jはとてもリッチな言語だ。数年間Jを勉強した後でも、まだ自分のことを初心者と考えるかもしれない。これはBasicやJavaのような単純な言語とはっきり違う点だ。何ヶ月にもわたって勉強し、使ってみて、やっと専門家になれるのだ。Jのエキスパートになるために必要な努力は、C++のエキスパートになるために必要なものに近い。\n",
    "\n",
    "良いニュースもある。Jの本質はとてもシンプルで、一貫性がある。本当に興味深い問題に取り組むために十分な内容を素早く学べるはずだ。\n",
    "\n",
    "単純な問題を解決するだけなら、BasicやJavaを勉強するほうが簡単だ。しかし、より興味深くて挑戦しがいのある問題を解決するのであれば、Jをしっかり学ぶほうが簡単なのだ。そして、一度身につけてしまえばどこまでもスキルを高めていける。より優れた、恐るべきプログラマーになれるはずだ。\n",
    "\n",
    "Jは、配列データの数学的、統計的、論理的分析において特に力を発揮する。これは、古い問題に対するより優れた解法を構築し、さらにまだ良く理解されていない問題に対して解決法を見つける際にも強力なツールになる。\n",
    "\n",
    "Jは汎用言語であるというだけでなく、次のような機能も提供される。\n",
    "\n",
    "- 統合開発環境\n",
    "- 標準ライブラリ、ユーティリティ、パッケージ\n",
    "- アプリケーションフォーム(windows)のためのフォームデザイナー\n",
    "- アプリケーションのためのイベント駆動型のグラフィカルユーザーインターフェース\n",
    "- 他のプログラミング言語、アプリケーションとのインターフェース\n",
    "- アプリケーションの高速なプロトタイピングと開発\n",
    "- あなたのアプリケーションのためのランタイムバージョンの無償配布\n",
    "\n",
    "もし、難しいデータ処理に対する解決法をプログラミングすることに興味があるのなら、Jを学ぶことに費やす時間は有意義なものになるはずだ。"
   ]
  },
  {
   "cell_type": "markdown",
   "metadata": {},
   "source": [
    "## この本の目的\n",
    "\n"
   ]
  },
  {
   "cell_type": "markdown",
   "metadata": {},
   "source": [
    "## さあ、始めよう\n",
    "\n",
    "Jのアイコンをダブルクリックしよう。Jのセッションはn.ijx(nは数字で、例えば1.ijxとなっているはずだ)というようなラベルがついたウィンドウが開いただろう(訳注: 実行しているOSにより多少異なる)。\n",
    "\n",
    "ijxウィンドウは実行ウインドウだ。Jの文を打ち込み、エンターキーを押せば、Jは文を実行して結果を画面に表示する。\n",
    "\n",
    "次の内容を入力して実行してみよう。"
   ]
  },
  {
   "cell_type": "code",
   "execution_count": 2,
   "metadata": {},
   "outputs": [
    {
     "data": {
      "text/plain": [
       "5"
      ]
     },
     "execution_count": 2,
     "metadata": {},
     "output_type": "execute_result"
    }
   ],
   "source": [
    "2 + 3"
   ]
  },
  {
   "cell_type": "markdown",
   "metadata": {},
   "source": [
    "文が実行されて結果が表示されたはずだ。また、次のように入力してみよう。"
   ]
  },
  {
   "cell_type": "code",
   "execution_count": 3,
   "metadata": {},
   "outputs": [
    {
     "data": {
      "text/plain": [
       "2"
      ]
     },
     "execution_count": 3,
     "metadata": {},
     "output_type": "execute_result"
    }
   ],
   "source": [
    "5 - 3"
   ]
  },
  {
   "cell_type": "markdown",
   "metadata": {},
   "source": [
    "セッションは次のようになっているだろう。\n",
    "\n",
    "```\n",
    "   2 + 3\n",
    "5\n",
    "   5 - 3\n",
    "2\n",
    "```\n",
    "\n",
    "入力は3つの空白でインデントされており、Jの出力は行の頭から表示される(訳注: jqtで実行した場合の話であり、notebookの表示とは異なる)。"
   ]
  },
  {
   "cell_type": "code",
   "execution_count": null,
   "metadata": {
    "collapsed": true
   },
   "outputs": [],
   "source": []
  }
 ],
 "metadata": {
  "kernelspec": {
   "display_name": "Python 3",
   "language": "python",
   "name": "python3"
  },
  "language_info": {
   "codemirror_mode": {
    "name": "ipython",
    "version": 3
   },
   "file_extension": ".py",
   "mimetype": "text/x-python",
   "name": "python",
   "nbconvert_exporter": "python",
   "pygments_lexer": "ipython3",
   "version": "3.6.4"
  }
 },
 "nbformat": 4,
 "nbformat_minor": 2
}
